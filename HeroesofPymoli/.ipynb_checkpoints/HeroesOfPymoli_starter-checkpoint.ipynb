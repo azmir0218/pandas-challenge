{
 "cells": [
  {
   "cell_type": "markdown",
   "metadata": {},
   "source": [
    "### Note\n",
    "* Instructions have been included for each segment. You do not have to follow them exactly, but they are included to help you think through the steps."
   ]
  },
  {
   "cell_type": "code",
   "execution_count": 267,
   "metadata": {},
   "outputs": [
    {
     "data": {
      "text/html": [
       "<div>\n",
       "<style scoped>\n",
       "    .dataframe tbody tr th:only-of-type {\n",
       "        vertical-align: middle;\n",
       "    }\n",
       "\n",
       "    .dataframe tbody tr th {\n",
       "        vertical-align: top;\n",
       "    }\n",
       "\n",
       "    .dataframe thead th {\n",
       "        text-align: right;\n",
       "    }\n",
       "</style>\n",
       "<table border=\"1\" class=\"dataframe\">\n",
       "  <thead>\n",
       "    <tr style=\"text-align: right;\">\n",
       "      <th></th>\n",
       "      <th>Purchase ID</th>\n",
       "      <th>SN</th>\n",
       "      <th>Age</th>\n",
       "      <th>Gender</th>\n",
       "      <th>Item ID</th>\n",
       "      <th>Item Name</th>\n",
       "      <th>Price</th>\n",
       "    </tr>\n",
       "  </thead>\n",
       "  <tbody>\n",
       "    <tr>\n",
       "      <th>0</th>\n",
       "      <td>0</td>\n",
       "      <td>Lisim78</td>\n",
       "      <td>20</td>\n",
       "      <td>Male</td>\n",
       "      <td>108</td>\n",
       "      <td>Extraction, Quickblade Of Trembling Hands</td>\n",
       "      <td>3.53</td>\n",
       "    </tr>\n",
       "    <tr>\n",
       "      <th>1</th>\n",
       "      <td>1</td>\n",
       "      <td>Lisovynya38</td>\n",
       "      <td>40</td>\n",
       "      <td>Male</td>\n",
       "      <td>143</td>\n",
       "      <td>Frenzied Scimitar</td>\n",
       "      <td>1.56</td>\n",
       "    </tr>\n",
       "    <tr>\n",
       "      <th>2</th>\n",
       "      <td>2</td>\n",
       "      <td>Ithergue48</td>\n",
       "      <td>24</td>\n",
       "      <td>Male</td>\n",
       "      <td>92</td>\n",
       "      <td>Final Critic</td>\n",
       "      <td>4.88</td>\n",
       "    </tr>\n",
       "    <tr>\n",
       "      <th>3</th>\n",
       "      <td>3</td>\n",
       "      <td>Chamassasya86</td>\n",
       "      <td>24</td>\n",
       "      <td>Male</td>\n",
       "      <td>100</td>\n",
       "      <td>Blindscythe</td>\n",
       "      <td>3.27</td>\n",
       "    </tr>\n",
       "    <tr>\n",
       "      <th>4</th>\n",
       "      <td>4</td>\n",
       "      <td>Iskosia90</td>\n",
       "      <td>23</td>\n",
       "      <td>Male</td>\n",
       "      <td>131</td>\n",
       "      <td>Fury</td>\n",
       "      <td>1.44</td>\n",
       "    </tr>\n",
       "  </tbody>\n",
       "</table>\n",
       "</div>"
      ],
      "text/plain": [
       "   Purchase ID             SN  Age Gender  Item ID  \\\n",
       "0            0        Lisim78   20   Male      108   \n",
       "1            1    Lisovynya38   40   Male      143   \n",
       "2            2     Ithergue48   24   Male       92   \n",
       "3            3  Chamassasya86   24   Male      100   \n",
       "4            4      Iskosia90   23   Male      131   \n",
       "\n",
       "                                   Item Name  Price  \n",
       "0  Extraction, Quickblade Of Trembling Hands   3.53  \n",
       "1                          Frenzied Scimitar   1.56  \n",
       "2                               Final Critic   4.88  \n",
       "3                                Blindscythe   3.27  \n",
       "4                                       Fury   1.44  "
      ]
     },
     "execution_count": 267,
     "metadata": {},
     "output_type": "execute_result"
    }
   ],
   "source": [
    "# Dependencies and Setup\n",
    "import pandas as pd\n",
    "\n",
    "# File to Load (Remember to Change These)\n",
    "file_to_load = \"Resources/purchase_data.csv\"\n",
    "\n",
    "# Read Purchasing File and store into Pandas data frame\n",
    "purchase_data_df = pd.read_csv(file_to_load)\n",
    "\n",
    "purchase_data_df.head()"
   ]
  },
  {
   "cell_type": "markdown",
   "metadata": {},
   "source": [
    "## Player Count"
   ]
  },
  {
   "cell_type": "markdown",
   "metadata": {},
   "source": [
    "* Display the total number of players\n"
   ]
  },
  {
   "cell_type": "code",
   "execution_count": 268,
   "metadata": {},
   "outputs": [
    {
     "data": {
      "text/html": [
       "<div>\n",
       "<style scoped>\n",
       "    .dataframe tbody tr th:only-of-type {\n",
       "        vertical-align: middle;\n",
       "    }\n",
       "\n",
       "    .dataframe tbody tr th {\n",
       "        vertical-align: top;\n",
       "    }\n",
       "\n",
       "    .dataframe thead th {\n",
       "        text-align: right;\n",
       "    }\n",
       "</style>\n",
       "<table border=\"1\" class=\"dataframe\">\n",
       "  <thead>\n",
       "    <tr style=\"text-align: right;\">\n",
       "      <th></th>\n",
       "      <th>Total Players</th>\n",
       "    </tr>\n",
       "  </thead>\n",
       "  <tbody>\n",
       "    <tr>\n",
       "      <th>0</th>\n",
       "      <td>576</td>\n",
       "    </tr>\n",
       "  </tbody>\n",
       "</table>\n",
       "</div>"
      ],
      "text/plain": [
       "   Total Players\n",
       "0            576"
      ]
     },
     "execution_count": 268,
     "metadata": {},
     "output_type": "execute_result"
    }
   ],
   "source": [
    "#Get the total players count\n",
    "\n",
    "Player_Count_df=len(purchase_data_df[\"SN\"].value_counts())\n",
    "#Display players in DF\n",
    "Players_summary = pd.DataFrame({\"Total Players\": [Player_Count_df]})\n",
    "Players_summary\n"
   ]
  },
  {
   "cell_type": "markdown",
   "metadata": {},
   "source": [
    "## Purchasing Analysis (Total)"
   ]
  },
  {
   "cell_type": "markdown",
   "metadata": {},
   "source": [
    "* Run basic calculations to obtain number of unique items, average price, etc.\n",
    "\n",
    "\n",
    "* Create a summary data frame to hold the results\n",
    "\n",
    "\n",
    "* Optional: give the displayed data cleaner formatting\n",
    "\n",
    "\n",
    "* Display the summary data frame\n"
   ]
  },
  {
   "cell_type": "code",
   "execution_count": 269,
   "metadata": {
    "scrolled": true
   },
   "outputs": [
    {
     "data": {
      "text/html": [
       "<style  type=\"text/css\" >\n",
       "</style><table id=\"T_3e2cca58_270f_11ec_8f59_1e0031265e4a\" ><thead>    <tr>        <th class=\"blank level0\" ></th>        <th class=\"col_heading level0 col0\" >Number of Unique Items</th>        <th class=\"col_heading level0 col1\" >Average Price</th>        <th class=\"col_heading level0 col2\" >Number of Purchases</th>        <th class=\"col_heading level0 col3\" >Total Revenue</th>    </tr></thead><tbody>\n",
       "                <tr>\n",
       "                        <th id=\"T_3e2cca58_270f_11ec_8f59_1e0031265e4alevel0_row0\" class=\"row_heading level0 row0\" >0</th>\n",
       "                        <td id=\"T_3e2cca58_270f_11ec_8f59_1e0031265e4arow0_col0\" class=\"data row0 col0\" >179</td>\n",
       "                        <td id=\"T_3e2cca58_270f_11ec_8f59_1e0031265e4arow0_col1\" class=\"data row0 col1\" >$3.05</td>\n",
       "                        <td id=\"T_3e2cca58_270f_11ec_8f59_1e0031265e4arow0_col2\" class=\"data row0 col2\" >780</td>\n",
       "                        <td id=\"T_3e2cca58_270f_11ec_8f59_1e0031265e4arow0_col3\" class=\"data row0 col3\" >$2,379.77</td>\n",
       "            </tr>\n",
       "    </tbody></table>"
      ],
      "text/plain": [
       "<pandas.io.formats.style.Styler at 0x7feef0ece550>"
      ]
     },
     "execution_count": 269,
     "metadata": {},
     "output_type": "execute_result"
    }
   ],
   "source": [
    "#Get the totals for unique items, average purchase price, total number of purchases, total revenue\n",
    "Number_of_unique_items = len(purchase_data_df[\"Item ID\"].unique())\n",
    "Average_Purchase_Price = purchase_data_df[\"Price\"].mean()\n",
    "Total_number_of_purchases = len(purchase_data_df[\"Purchase ID\"].unique())\n",
    "Total_revenue = purchase_data_df[\"Price\"].sum()\n",
    "#Summary DF to hold the above results\n",
    "Totals_Summary_df = pd.DataFrame({\"Number of Unique Items\":[Number_of_unique_items], \"Average Price\":[Average_Purchase_Price],\n",
    "                                 \"Number of Purchases\":[Total_number_of_purchases],\"Total Revenue\":[Total_revenue]})\n",
    "Totals_Summary_df.style.format({\"Average Price\":\"${:,.2f}\",\"Total Revenue\":\"${:,.2f}\"})\n"
   ]
  },
  {
   "cell_type": "markdown",
   "metadata": {},
   "source": [
    "## Gender Demographics"
   ]
  },
  {
   "cell_type": "markdown",
   "metadata": {},
   "source": [
    "* Percentage and Count of Male Players\n",
    "\n",
    "\n",
    "* Percentage and Count of Female Players\n",
    "\n",
    "\n",
    "* Percentage and Count of Other / Non-Disclosed\n",
    "\n",
    "\n"
   ]
  },
  {
   "cell_type": "code",
   "execution_count": 270,
   "metadata": {},
   "outputs": [
    {
     "data": {
      "text/html": [
       "<style  type=\"text/css\" >\n",
       "</style><table id=\"T_3f5d23e4_270f_11ec_b0df_1e0031265e4a\" ><thead>    <tr>        <th class=\"blank level0\" ></th>        <th class=\"col_heading level0 col0\" >Total Count</th>        <th class=\"col_heading level0 col1\" >Percentage of Players</th>    </tr></thead><tbody>\n",
       "                <tr>\n",
       "                        <th id=\"T_3f5d23e4_270f_11ec_b0df_1e0031265e4alevel0_row0\" class=\"row_heading level0 row0\" >Male</th>\n",
       "                        <td id=\"T_3f5d23e4_270f_11ec_b0df_1e0031265e4arow0_col0\" class=\"data row0 col0\" >652</td>\n",
       "                        <td id=\"T_3f5d23e4_270f_11ec_b0df_1e0031265e4arow0_col1\" class=\"data row0 col1\" >83.59%</td>\n",
       "            </tr>\n",
       "            <tr>\n",
       "                        <th id=\"T_3f5d23e4_270f_11ec_b0df_1e0031265e4alevel0_row1\" class=\"row_heading level0 row1\" >Female</th>\n",
       "                        <td id=\"T_3f5d23e4_270f_11ec_b0df_1e0031265e4arow1_col0\" class=\"data row1 col0\" >113</td>\n",
       "                        <td id=\"T_3f5d23e4_270f_11ec_b0df_1e0031265e4arow1_col1\" class=\"data row1 col1\" >14.49%</td>\n",
       "            </tr>\n",
       "            <tr>\n",
       "                        <th id=\"T_3f5d23e4_270f_11ec_b0df_1e0031265e4alevel0_row2\" class=\"row_heading level0 row2\" >Other / Non-Disclosed</th>\n",
       "                        <td id=\"T_3f5d23e4_270f_11ec_b0df_1e0031265e4arow2_col0\" class=\"data row2 col0\" >15</td>\n",
       "                        <td id=\"T_3f5d23e4_270f_11ec_b0df_1e0031265e4arow2_col1\" class=\"data row2 col1\" >1.92%</td>\n",
       "            </tr>\n",
       "    </tbody></table>"
      ],
      "text/plain": [
       "<pandas.io.formats.style.Styler at 0x7feea81c3710>"
      ]
     },
     "execution_count": 270,
     "metadata": {},
     "output_type": "execute_result"
    }
   ],
   "source": [
    "#Get totals for genders\n",
    "gender_counts_df = purchase_data_df[\"Gender\"].value_counts()\n",
    "#Calculate the percentage for Gender\n",
    "gender_percent = (purchase_data_df[\"Gender\"].value_counts()/(purchase_data_df[\"SN\"]).count())\n",
    "#Covert to DF\n",
    "Total_gender_df = pd.DataFrame({\"Total Count\" :gender_counts_df,\"Percentage of Players\": gender_percent})\n",
    "#Format the % to 2 decimal places\n",
    "Total_gender_df.style.format({\"Percentage of Players\": \"{:.2%}\"})\n"
   ]
  },
  {
   "cell_type": "markdown",
   "metadata": {},
   "source": [
    "\n",
    "## Purchasing Analysis (Gender)"
   ]
  },
  {
   "cell_type": "markdown",
   "metadata": {},
   "source": [
    "* Run basic calculations to obtain purchase count, avg. purchase price, avg. purchase total per person etc. by gender\n",
    "\n",
    "\n",
    "\n",
    "\n",
    "* Create a summary data frame to hold the results\n",
    "\n",
    "\n",
    "* Optional: give the displayed data cleaner formatting\n",
    "\n",
    "\n",
    "* Display the summary data frame"
   ]
  },
  {
   "cell_type": "code",
   "execution_count": 271,
   "metadata": {},
   "outputs": [
    {
     "data": {
      "text/html": [
       "<style  type=\"text/css\" >\n",
       "</style><table id=\"T_409bd80c_270f_11ec_b7e7_1e0031265e4a\" ><thead>    <tr>        <th class=\"blank level0\" ></th>        <th class=\"col_heading level0 col0\" >Purchase Count</th>        <th class=\"col_heading level0 col1\" >Average Price</th>        <th class=\"col_heading level0 col2\" >Total</th>        <th class=\"col_heading level0 col3\" >Avg Total Purchase per Person</th>    </tr>    <tr>        <th class=\"index_name level0\" >Gender</th>        <th class=\"blank\" ></th>        <th class=\"blank\" ></th>        <th class=\"blank\" ></th>        <th class=\"blank\" ></th>    </tr></thead><tbody>\n",
       "                <tr>\n",
       "                        <th id=\"T_409bd80c_270f_11ec_b7e7_1e0031265e4alevel0_row0\" class=\"row_heading level0 row0\" >Female</th>\n",
       "                        <td id=\"T_409bd80c_270f_11ec_b7e7_1e0031265e4arow0_col0\" class=\"data row0 col0\" >113</td>\n",
       "                        <td id=\"T_409bd80c_270f_11ec_b7e7_1e0031265e4arow0_col1\" class=\"data row0 col1\" >$3.20</td>\n",
       "                        <td id=\"T_409bd80c_270f_11ec_b7e7_1e0031265e4arow0_col2\" class=\"data row0 col2\" >$361.94</td>\n",
       "                        <td id=\"T_409bd80c_270f_11ec_b7e7_1e0031265e4arow0_col3\" class=\"data row0 col3\" >$4.47</td>\n",
       "            </tr>\n",
       "            <tr>\n",
       "                        <th id=\"T_409bd80c_270f_11ec_b7e7_1e0031265e4alevel0_row1\" class=\"row_heading level0 row1\" >Male</th>\n",
       "                        <td id=\"T_409bd80c_270f_11ec_b7e7_1e0031265e4arow1_col0\" class=\"data row1 col0\" >652</td>\n",
       "                        <td id=\"T_409bd80c_270f_11ec_b7e7_1e0031265e4arow1_col1\" class=\"data row1 col1\" >$3.02</td>\n",
       "                        <td id=\"T_409bd80c_270f_11ec_b7e7_1e0031265e4arow1_col2\" class=\"data row1 col2\" >$1,967.64</td>\n",
       "                        <td id=\"T_409bd80c_270f_11ec_b7e7_1e0031265e4arow1_col3\" class=\"data row1 col3\" >$4.07</td>\n",
       "            </tr>\n",
       "            <tr>\n",
       "                        <th id=\"T_409bd80c_270f_11ec_b7e7_1e0031265e4alevel0_row2\" class=\"row_heading level0 row2\" >Other / Non-Disclosed</th>\n",
       "                        <td id=\"T_409bd80c_270f_11ec_b7e7_1e0031265e4arow2_col0\" class=\"data row2 col0\" >15</td>\n",
       "                        <td id=\"T_409bd80c_270f_11ec_b7e7_1e0031265e4arow2_col1\" class=\"data row2 col1\" >$3.35</td>\n",
       "                        <td id=\"T_409bd80c_270f_11ec_b7e7_1e0031265e4arow2_col2\" class=\"data row2 col2\" >$50.19</td>\n",
       "                        <td id=\"T_409bd80c_270f_11ec_b7e7_1e0031265e4arow2_col3\" class=\"data row2 col3\" >$4.56</td>\n",
       "            </tr>\n",
       "    </tbody></table>"
      ],
      "text/plain": [
       "<pandas.io.formats.style.Styler at 0x7feef0e2aa90>"
      ]
     },
     "execution_count": 271,
     "metadata": {},
     "output_type": "execute_result"
    }
   ],
   "source": [
    "#Group by Gender\n",
    "gender_totals_df = purchase_data_df.groupby([\"Gender\"])\n",
    "#Get the list of unique users\n",
    "User_names = gender_totals_df[\"SN\"].nunique()\n",
    "#Total Purchase number per gender\n",
    "gender_purchase_count_df = gender_totals_df[\"Gender\"].count()\n",
    "#Average price per gender\n",
    "Average_price_df = gender_totals_df[\"Price\"].mean()\n",
    "#Total price per gender\n",
    "Total_purchase_df = gender_totals_df[\"Price\"].sum()\n",
    "#Average total purchase per person\n",
    "Avg_Total_Purchase = Total_purchase_df/User_names\n",
    "#Create DF with the above results\n",
    "Summary_df = pd.DataFrame ({\"Purchase Count\": gender_purchase_count_df, \"Average Price\":Average_price_df, \"Total\": Total_purchase_df,\n",
    "                           \"Avg Total Purchase per Person\": Avg_Total_Purchase})\n",
    "#Format to include 2 decimal places and correct currency format\n",
    "Summary_df.style.format({\"Average Price\": \"${:,.2f}\", \"Avg Total Purchase per Person\":\"${:,.2f}\",\"Total\":\"${:,.2f}\"})\n",
    "\n"
   ]
  },
  {
   "cell_type": "markdown",
   "metadata": {},
   "source": [
    "## Age Demographics"
   ]
  },
  {
   "cell_type": "markdown",
   "metadata": {},
   "source": [
    "* Establish bins for ages\n",
    "\n",
    "\n",
    "* Categorize the existing players using the age bins. Hint: use pd.cut()\n",
    "\n",
    "\n",
    "* Calculate the numbers and percentages by age group\n",
    "\n",
    "\n",
    "* Create a summary data frame to hold the results\n",
    "\n",
    "\n",
    "* Optional: round the percentage column to two decimal points\n",
    "\n",
    "\n",
    "* Display Age Demographics Table\n"
   ]
  },
  {
   "cell_type": "code",
   "execution_count": 272,
   "metadata": {},
   "outputs": [
    {
     "data": {
      "text/html": [
       "<style  type=\"text/css\" >\n",
       "</style><table id=\"T_440af1e6_270f_11ec_a81e_1e0031265e4a\" ><thead>    <tr>        <th class=\"blank level0\" ></th>        <th class=\"col_heading level0 col0\" >Percentage of Players</th>        <th class=\"col_heading level0 col1\" >Total Count</th>        <th class=\"col_heading level0 col2\" >Purchase Count</th>        <th class=\"col_heading level0 col3\" >Average Purchase Price</th>        <th class=\"col_heading level0 col4\" >Total Purchase Value</th>        <th class=\"col_heading level0 col5\" >Avg Total Purchase per Person</th>    </tr>    <tr>        <th class=\"index_name level0\" >Age Ranges</th>        <th class=\"blank\" ></th>        <th class=\"blank\" ></th>        <th class=\"blank\" ></th>        <th class=\"blank\" ></th>        <th class=\"blank\" ></th>        <th class=\"blank\" ></th>    </tr></thead><tbody>\n",
       "                <tr>\n",
       "                        <th id=\"T_440af1e6_270f_11ec_a81e_1e0031265e4alevel0_row0\" class=\"row_heading level0 row0\" ><10</th>\n",
       "                        <td id=\"T_440af1e6_270f_11ec_a81e_1e0031265e4arow0_col0\" class=\"data row0 col0\" >2.95%</td>\n",
       "                        <td id=\"T_440af1e6_270f_11ec_a81e_1e0031265e4arow0_col1\" class=\"data row0 col1\" >17</td>\n",
       "                        <td id=\"T_440af1e6_270f_11ec_a81e_1e0031265e4arow0_col2\" class=\"data row0 col2\" >23</td>\n",
       "                        <td id=\"T_440af1e6_270f_11ec_a81e_1e0031265e4arow0_col3\" class=\"data row0 col3\" >$3.35</td>\n",
       "                        <td id=\"T_440af1e6_270f_11ec_a81e_1e0031265e4arow0_col4\" class=\"data row0 col4\" >$77.13</td>\n",
       "                        <td id=\"T_440af1e6_270f_11ec_a81e_1e0031265e4arow0_col5\" class=\"data row0 col5\" >$4.54</td>\n",
       "            </tr>\n",
       "            <tr>\n",
       "                        <th id=\"T_440af1e6_270f_11ec_a81e_1e0031265e4alevel0_row1\" class=\"row_heading level0 row1\" >10-14</th>\n",
       "                        <td id=\"T_440af1e6_270f_11ec_a81e_1e0031265e4arow1_col0\" class=\"data row1 col0\" >3.82%</td>\n",
       "                        <td id=\"T_440af1e6_270f_11ec_a81e_1e0031265e4arow1_col1\" class=\"data row1 col1\" >22</td>\n",
       "                        <td id=\"T_440af1e6_270f_11ec_a81e_1e0031265e4arow1_col2\" class=\"data row1 col2\" >28</td>\n",
       "                        <td id=\"T_440af1e6_270f_11ec_a81e_1e0031265e4arow1_col3\" class=\"data row1 col3\" >$2.96</td>\n",
       "                        <td id=\"T_440af1e6_270f_11ec_a81e_1e0031265e4arow1_col4\" class=\"data row1 col4\" >$82.78</td>\n",
       "                        <td id=\"T_440af1e6_270f_11ec_a81e_1e0031265e4arow1_col5\" class=\"data row1 col5\" >$3.76</td>\n",
       "            </tr>\n",
       "            <tr>\n",
       "                        <th id=\"T_440af1e6_270f_11ec_a81e_1e0031265e4alevel0_row2\" class=\"row_heading level0 row2\" >15-19</th>\n",
       "                        <td id=\"T_440af1e6_270f_11ec_a81e_1e0031265e4arow2_col0\" class=\"data row2 col0\" >18.58%</td>\n",
       "                        <td id=\"T_440af1e6_270f_11ec_a81e_1e0031265e4arow2_col1\" class=\"data row2 col1\" >107</td>\n",
       "                        <td id=\"T_440af1e6_270f_11ec_a81e_1e0031265e4arow2_col2\" class=\"data row2 col2\" >136</td>\n",
       "                        <td id=\"T_440af1e6_270f_11ec_a81e_1e0031265e4arow2_col3\" class=\"data row2 col3\" >$3.04</td>\n",
       "                        <td id=\"T_440af1e6_270f_11ec_a81e_1e0031265e4arow2_col4\" class=\"data row2 col4\" >$412.89</td>\n",
       "                        <td id=\"T_440af1e6_270f_11ec_a81e_1e0031265e4arow2_col5\" class=\"data row2 col5\" >$3.86</td>\n",
       "            </tr>\n",
       "            <tr>\n",
       "                        <th id=\"T_440af1e6_270f_11ec_a81e_1e0031265e4alevel0_row3\" class=\"row_heading level0 row3\" >20-24</th>\n",
       "                        <td id=\"T_440af1e6_270f_11ec_a81e_1e0031265e4arow3_col0\" class=\"data row3 col0\" >44.79%</td>\n",
       "                        <td id=\"T_440af1e6_270f_11ec_a81e_1e0031265e4arow3_col1\" class=\"data row3 col1\" >258</td>\n",
       "                        <td id=\"T_440af1e6_270f_11ec_a81e_1e0031265e4arow3_col2\" class=\"data row3 col2\" >365</td>\n",
       "                        <td id=\"T_440af1e6_270f_11ec_a81e_1e0031265e4arow3_col3\" class=\"data row3 col3\" >$3.05</td>\n",
       "                        <td id=\"T_440af1e6_270f_11ec_a81e_1e0031265e4arow3_col4\" class=\"data row3 col4\" >$1,114.06</td>\n",
       "                        <td id=\"T_440af1e6_270f_11ec_a81e_1e0031265e4arow3_col5\" class=\"data row3 col5\" >$4.32</td>\n",
       "            </tr>\n",
       "            <tr>\n",
       "                        <th id=\"T_440af1e6_270f_11ec_a81e_1e0031265e4alevel0_row4\" class=\"row_heading level0 row4\" >25-29</th>\n",
       "                        <td id=\"T_440af1e6_270f_11ec_a81e_1e0031265e4arow4_col0\" class=\"data row4 col0\" >13.37%</td>\n",
       "                        <td id=\"T_440af1e6_270f_11ec_a81e_1e0031265e4arow4_col1\" class=\"data row4 col1\" >77</td>\n",
       "                        <td id=\"T_440af1e6_270f_11ec_a81e_1e0031265e4arow4_col2\" class=\"data row4 col2\" >101</td>\n",
       "                        <td id=\"T_440af1e6_270f_11ec_a81e_1e0031265e4arow4_col3\" class=\"data row4 col3\" >$2.90</td>\n",
       "                        <td id=\"T_440af1e6_270f_11ec_a81e_1e0031265e4arow4_col4\" class=\"data row4 col4\" >$293.00</td>\n",
       "                        <td id=\"T_440af1e6_270f_11ec_a81e_1e0031265e4arow4_col5\" class=\"data row4 col5\" >$3.81</td>\n",
       "            </tr>\n",
       "            <tr>\n",
       "                        <th id=\"T_440af1e6_270f_11ec_a81e_1e0031265e4alevel0_row5\" class=\"row_heading level0 row5\" >30-34</th>\n",
       "                        <td id=\"T_440af1e6_270f_11ec_a81e_1e0031265e4arow5_col0\" class=\"data row5 col0\" >9.03%</td>\n",
       "                        <td id=\"T_440af1e6_270f_11ec_a81e_1e0031265e4arow5_col1\" class=\"data row5 col1\" >52</td>\n",
       "                        <td id=\"T_440af1e6_270f_11ec_a81e_1e0031265e4arow5_col2\" class=\"data row5 col2\" >73</td>\n",
       "                        <td id=\"T_440af1e6_270f_11ec_a81e_1e0031265e4arow5_col3\" class=\"data row5 col3\" >$2.93</td>\n",
       "                        <td id=\"T_440af1e6_270f_11ec_a81e_1e0031265e4arow5_col4\" class=\"data row5 col4\" >$214.00</td>\n",
       "                        <td id=\"T_440af1e6_270f_11ec_a81e_1e0031265e4arow5_col5\" class=\"data row5 col5\" >$4.12</td>\n",
       "            </tr>\n",
       "            <tr>\n",
       "                        <th id=\"T_440af1e6_270f_11ec_a81e_1e0031265e4alevel0_row6\" class=\"row_heading level0 row6\" >35-39</th>\n",
       "                        <td id=\"T_440af1e6_270f_11ec_a81e_1e0031265e4arow6_col0\" class=\"data row6 col0\" >5.38%</td>\n",
       "                        <td id=\"T_440af1e6_270f_11ec_a81e_1e0031265e4arow6_col1\" class=\"data row6 col1\" >31</td>\n",
       "                        <td id=\"T_440af1e6_270f_11ec_a81e_1e0031265e4arow6_col2\" class=\"data row6 col2\" >41</td>\n",
       "                        <td id=\"T_440af1e6_270f_11ec_a81e_1e0031265e4arow6_col3\" class=\"data row6 col3\" >$3.60</td>\n",
       "                        <td id=\"T_440af1e6_270f_11ec_a81e_1e0031265e4arow6_col4\" class=\"data row6 col4\" >$147.67</td>\n",
       "                        <td id=\"T_440af1e6_270f_11ec_a81e_1e0031265e4arow6_col5\" class=\"data row6 col5\" >$4.76</td>\n",
       "            </tr>\n",
       "            <tr>\n",
       "                        <th id=\"T_440af1e6_270f_11ec_a81e_1e0031265e4alevel0_row7\" class=\"row_heading level0 row7\" >40+</th>\n",
       "                        <td id=\"T_440af1e6_270f_11ec_a81e_1e0031265e4arow7_col0\" class=\"data row7 col0\" >1.91%</td>\n",
       "                        <td id=\"T_440af1e6_270f_11ec_a81e_1e0031265e4arow7_col1\" class=\"data row7 col1\" >11</td>\n",
       "                        <td id=\"T_440af1e6_270f_11ec_a81e_1e0031265e4arow7_col2\" class=\"data row7 col2\" >12</td>\n",
       "                        <td id=\"T_440af1e6_270f_11ec_a81e_1e0031265e4arow7_col3\" class=\"data row7 col3\" >$3.04</td>\n",
       "                        <td id=\"T_440af1e6_270f_11ec_a81e_1e0031265e4arow7_col4\" class=\"data row7 col4\" >$36.54</td>\n",
       "                        <td id=\"T_440af1e6_270f_11ec_a81e_1e0031265e4arow7_col5\" class=\"data row7 col5\" >$3.32</td>\n",
       "            </tr>\n",
       "    </tbody></table>"
      ],
      "text/plain": [
       "<pandas.io.formats.style.Styler at 0x7feeb0387278>"
      ]
     },
     "execution_count": 272,
     "metadata": {},
     "output_type": "execute_result"
    }
   ],
   "source": [
    "# Create the bins in which Data will be held\n",
    "bins = [0, 9, 14, 19, 24, 29, 34, 39, 44]\n",
    "# Create labels for these bins\n",
    "age_labels =[\"<10\", \"10-14\", \"15-19\",\"20-24\",\"25-29\",\"30-34\",\"35-39\",\"40+\"]\n",
    "# Slice the data and place it into bins\n",
    "pd.cut(purchase_data_df[\"Age\"], bins, labels=age_labels)\n",
    "# Place the data series into a new column inside of the DataFrame\n",
    "purchase_data_df[\"Age Ranges\"] = pd.cut(purchase_data_df[\"Age\"], bins, labels=age_labels)\n",
    "# Create a GroupBy object based upon \"Age Ranges\"\n",
    "Age_group_df = purchase_data_df.groupby(\"Age Ranges\")\n",
    "#Count Total SN's by Age group\n",
    "Count_group_df = Age_group_df[\"SN\"].nunique()\n",
    "#Calculate the total percentage by age\n",
    "Percent_by_age = Count_group_df/Player_Count_df *100\n",
    "#Get the total Purchase ID by age group\n",
    "Purchase_count_df = Age_group_df[\"Purchase ID\"].count()\n",
    "#Get the mean Price by Age by Group\n",
    "Average_purchase_price_df = Age_group_df[\"Price\"].mean()\n",
    "#Get the total price by age group\n",
    "Total_purchase_value_df = Age_group_df[\"Price\"].sum()\n",
    "#Get the average total purchase per person\n",
    "Average_per_person_df = Total_purchase_value_df/Count_group_df\n",
    "#put the above in Data Frame\n",
    "Summary_age_df = pd.DataFrame({\"Percentage of Players\": Percent_by_age,\"Total Count\":Count_group_df,\"Purchase Count\":Purchase_count_df,\"Average Purchase Price\":Average_purchase_price_df,\"Total Purchase Value\":\n",
    "                              Total_purchase_value_df,\"Avg Total Purchase per Person\":Average_per_person_df\n",
    "                              })\n",
    "#Format percentage, currency, 2 decimal places\n",
    "Summary_age_df.style.format({\"Percentage of Players\":\"{:,.2f}%\",\"Average Purchase Price\":\"${:,.2f}\",\"Total Purchase Value\":\n",
    "                            \"${:,.2f}\",\"Avg Total Purchase per Person\":\"${:,.2f}\"})\n",
    "\n"
   ]
  },
  {
   "cell_type": "markdown",
   "metadata": {},
   "source": [
    "## Purchasing Analysis (Age)"
   ]
  },
  {
   "cell_type": "markdown",
   "metadata": {},
   "source": [
    "* Bin the purchase_data data frame by age\n",
    "\n",
    "\n",
    "* Run basic calculations to obtain purchase count, avg. purchase price, avg. purchase total per person etc. in the table below\n",
    "\n",
    "\n",
    "* Create a summary data frame to hold the results\n",
    "\n",
    "\n",
    "* Optional: give the displayed data cleaner formatting\n",
    "\n",
    "\n",
    "* Display the summary data frame"
   ]
  },
  {
   "cell_type": "code",
   "execution_count": 273,
   "metadata": {},
   "outputs": [
    {
     "data": {
      "text/html": [
       "<style  type=\"text/css\" >\n",
       "</style><table id=\"T_46aa12cc_270f_11ec_9239_1e0031265e4a\" ><thead>    <tr>        <th class=\"blank level0\" ></th>        <th class=\"col_heading level0 col0\" >Purchase Count</th>        <th class=\"col_heading level0 col1\" >Average Purchase Price</th>        <th class=\"col_heading level0 col2\" >Total Purchase Value</th>        <th class=\"col_heading level0 col3\" >Avg Total Purchase per Person</th>    </tr>    <tr>        <th class=\"index_name level0\" >Age Ranges</th>        <th class=\"blank\" ></th>        <th class=\"blank\" ></th>        <th class=\"blank\" ></th>        <th class=\"blank\" ></th>    </tr></thead><tbody>\n",
       "                <tr>\n",
       "                        <th id=\"T_46aa12cc_270f_11ec_9239_1e0031265e4alevel0_row0\" class=\"row_heading level0 row0\" ><10</th>\n",
       "                        <td id=\"T_46aa12cc_270f_11ec_9239_1e0031265e4arow0_col0\" class=\"data row0 col0\" >23</td>\n",
       "                        <td id=\"T_46aa12cc_270f_11ec_9239_1e0031265e4arow0_col1\" class=\"data row0 col1\" >$3.35</td>\n",
       "                        <td id=\"T_46aa12cc_270f_11ec_9239_1e0031265e4arow0_col2\" class=\"data row0 col2\" >$77.13</td>\n",
       "                        <td id=\"T_46aa12cc_270f_11ec_9239_1e0031265e4arow0_col3\" class=\"data row0 col3\" >$4.54</td>\n",
       "            </tr>\n",
       "            <tr>\n",
       "                        <th id=\"T_46aa12cc_270f_11ec_9239_1e0031265e4alevel0_row1\" class=\"row_heading level0 row1\" >10-14</th>\n",
       "                        <td id=\"T_46aa12cc_270f_11ec_9239_1e0031265e4arow1_col0\" class=\"data row1 col0\" >28</td>\n",
       "                        <td id=\"T_46aa12cc_270f_11ec_9239_1e0031265e4arow1_col1\" class=\"data row1 col1\" >$2.96</td>\n",
       "                        <td id=\"T_46aa12cc_270f_11ec_9239_1e0031265e4arow1_col2\" class=\"data row1 col2\" >$82.78</td>\n",
       "                        <td id=\"T_46aa12cc_270f_11ec_9239_1e0031265e4arow1_col3\" class=\"data row1 col3\" >$3.76</td>\n",
       "            </tr>\n",
       "            <tr>\n",
       "                        <th id=\"T_46aa12cc_270f_11ec_9239_1e0031265e4alevel0_row2\" class=\"row_heading level0 row2\" >15-19</th>\n",
       "                        <td id=\"T_46aa12cc_270f_11ec_9239_1e0031265e4arow2_col0\" class=\"data row2 col0\" >136</td>\n",
       "                        <td id=\"T_46aa12cc_270f_11ec_9239_1e0031265e4arow2_col1\" class=\"data row2 col1\" >$3.04</td>\n",
       "                        <td id=\"T_46aa12cc_270f_11ec_9239_1e0031265e4arow2_col2\" class=\"data row2 col2\" >$412.89</td>\n",
       "                        <td id=\"T_46aa12cc_270f_11ec_9239_1e0031265e4arow2_col3\" class=\"data row2 col3\" >$3.86</td>\n",
       "            </tr>\n",
       "            <tr>\n",
       "                        <th id=\"T_46aa12cc_270f_11ec_9239_1e0031265e4alevel0_row3\" class=\"row_heading level0 row3\" >20-24</th>\n",
       "                        <td id=\"T_46aa12cc_270f_11ec_9239_1e0031265e4arow3_col0\" class=\"data row3 col0\" >365</td>\n",
       "                        <td id=\"T_46aa12cc_270f_11ec_9239_1e0031265e4arow3_col1\" class=\"data row3 col1\" >$3.05</td>\n",
       "                        <td id=\"T_46aa12cc_270f_11ec_9239_1e0031265e4arow3_col2\" class=\"data row3 col2\" >$1,114.06</td>\n",
       "                        <td id=\"T_46aa12cc_270f_11ec_9239_1e0031265e4arow3_col3\" class=\"data row3 col3\" >$4.32</td>\n",
       "            </tr>\n",
       "            <tr>\n",
       "                        <th id=\"T_46aa12cc_270f_11ec_9239_1e0031265e4alevel0_row4\" class=\"row_heading level0 row4\" >25-29</th>\n",
       "                        <td id=\"T_46aa12cc_270f_11ec_9239_1e0031265e4arow4_col0\" class=\"data row4 col0\" >101</td>\n",
       "                        <td id=\"T_46aa12cc_270f_11ec_9239_1e0031265e4arow4_col1\" class=\"data row4 col1\" >$2.90</td>\n",
       "                        <td id=\"T_46aa12cc_270f_11ec_9239_1e0031265e4arow4_col2\" class=\"data row4 col2\" >$293.00</td>\n",
       "                        <td id=\"T_46aa12cc_270f_11ec_9239_1e0031265e4arow4_col3\" class=\"data row4 col3\" >$3.81</td>\n",
       "            </tr>\n",
       "            <tr>\n",
       "                        <th id=\"T_46aa12cc_270f_11ec_9239_1e0031265e4alevel0_row5\" class=\"row_heading level0 row5\" >30-34</th>\n",
       "                        <td id=\"T_46aa12cc_270f_11ec_9239_1e0031265e4arow5_col0\" class=\"data row5 col0\" >73</td>\n",
       "                        <td id=\"T_46aa12cc_270f_11ec_9239_1e0031265e4arow5_col1\" class=\"data row5 col1\" >$2.93</td>\n",
       "                        <td id=\"T_46aa12cc_270f_11ec_9239_1e0031265e4arow5_col2\" class=\"data row5 col2\" >$214.00</td>\n",
       "                        <td id=\"T_46aa12cc_270f_11ec_9239_1e0031265e4arow5_col3\" class=\"data row5 col3\" >$4.12</td>\n",
       "            </tr>\n",
       "            <tr>\n",
       "                        <th id=\"T_46aa12cc_270f_11ec_9239_1e0031265e4alevel0_row6\" class=\"row_heading level0 row6\" >35-39</th>\n",
       "                        <td id=\"T_46aa12cc_270f_11ec_9239_1e0031265e4arow6_col0\" class=\"data row6 col0\" >41</td>\n",
       "                        <td id=\"T_46aa12cc_270f_11ec_9239_1e0031265e4arow6_col1\" class=\"data row6 col1\" >$3.60</td>\n",
       "                        <td id=\"T_46aa12cc_270f_11ec_9239_1e0031265e4arow6_col2\" class=\"data row6 col2\" >$147.67</td>\n",
       "                        <td id=\"T_46aa12cc_270f_11ec_9239_1e0031265e4arow6_col3\" class=\"data row6 col3\" >$4.76</td>\n",
       "            </tr>\n",
       "            <tr>\n",
       "                        <th id=\"T_46aa12cc_270f_11ec_9239_1e0031265e4alevel0_row7\" class=\"row_heading level0 row7\" >40+</th>\n",
       "                        <td id=\"T_46aa12cc_270f_11ec_9239_1e0031265e4arow7_col0\" class=\"data row7 col0\" >12</td>\n",
       "                        <td id=\"T_46aa12cc_270f_11ec_9239_1e0031265e4arow7_col1\" class=\"data row7 col1\" >$3.04</td>\n",
       "                        <td id=\"T_46aa12cc_270f_11ec_9239_1e0031265e4arow7_col2\" class=\"data row7 col2\" >$36.54</td>\n",
       "                        <td id=\"T_46aa12cc_270f_11ec_9239_1e0031265e4arow7_col3\" class=\"data row7 col3\" >$3.32</td>\n",
       "            </tr>\n",
       "    </tbody></table>"
      ],
      "text/plain": [
       "<pandas.io.formats.style.Styler at 0x7feeb0387128>"
      ]
     },
     "execution_count": 273,
     "metadata": {},
     "output_type": "execute_result"
    }
   ],
   "source": [
    "# Create the bins in which Data will be held\n",
    "bins = [0, 9, 14, 19, 24, 29, 34, 39, 44]\n",
    "#Create labels for these bins\n",
    "age_labels =[\"<10\", \"10-14\", \"15-19\",\"20-24\",\"25-29\",\"30-34\",\"35-39\",\"40+\"]\n",
    "# Slice the data and place it into bins\n",
    "pd.cut(purchase_data_df[\"Age\"], bins, labels=age_labels)\n",
    "# Place the data series into a new column inside of the DataFrame\n",
    "purchase_data_df[\"Age Ranges\"] = pd.cut(purchase_data_df[\"Age\"], bins, labels=age_labels)\n",
    "# Create a GroupBy object based upon \"Age Ranges\"\n",
    "Age_group_df = purchase_data_df.groupby(\"Age Ranges\")\n",
    "#Count Total Purchase ID's by Age group\n",
    "Purchase_counts_df = Age_group_df[\"Purchase ID\"].count()\n",
    "#Calculate the mean price by age group\n",
    "Average_purchase_prices_df = Age_group_df[\"Price\"].mean()\n",
    "#Calculate Total Purchase Values by age group\n",
    "Total_purchase_values_df = Age_group_df[\"Price\"].sum()\n",
    "#Calculate total average purchase per person\n",
    "Averages_per_person_df = Total_purchase_values_df/Count_group_df\n",
    "#Create DataFrame for the above \n",
    "Purchasing_analysis_df =pd.DataFrame({\"Purchase Count\":Purchase_counts_df,\"Average Purchase Price\":Average_purchase_prices_df,\n",
    "                                     \"Total Purchase Value\":Total_purchase_values_df,\"Avg Total Purchase per Person\":Averages_per_person_df})\n",
    "#Format the currency and 2 decimal places\n",
    "Purchasing_analysis_df.style.format({\"Average Purchase Price\":\"${:,.2f}\",\"Total Purchase Value\":\"${:,.2f}\",\"Avg Total Purchase per Person\":\"${:,.2f}\"})"
   ]
  },
  {
   "cell_type": "markdown",
   "metadata": {},
   "source": [
    "## Top Spenders"
   ]
  },
  {
   "cell_type": "markdown",
   "metadata": {},
   "source": [
    "* Run basic calculations to obtain the results in the table below\n",
    "\n",
    "\n",
    "* Create a summary data frame to hold the results\n",
    "\n",
    "\n",
    "* Sort the total purchase value column in descending order\n",
    "\n",
    "\n",
    "* Optional: give the displayed data cleaner formatting\n",
    "\n",
    "\n",
    "* Display a preview of the summary data frame\n",
    "\n"
   ]
  },
  {
   "cell_type": "code",
   "execution_count": 274,
   "metadata": {},
   "outputs": [
    {
     "data": {
      "text/html": [
       "<style  type=\"text/css\" >\n",
       "</style><table id=\"T_48bfea70_270f_11ec_8b34_1e0031265e4a\" ><thead>    <tr>        <th class=\"blank level0\" ></th>        <th class=\"col_heading level0 col0\" >Purchase Count</th>        <th class=\"col_heading level0 col1\" >Average Purchase Price</th>        <th class=\"col_heading level0 col2\" >Total Purchase Value</th>    </tr>    <tr>        <th class=\"index_name level0\" >SN</th>        <th class=\"blank\" ></th>        <th class=\"blank\" ></th>        <th class=\"blank\" ></th>    </tr></thead><tbody>\n",
       "                <tr>\n",
       "                        <th id=\"T_48bfea70_270f_11ec_8b34_1e0031265e4alevel0_row0\" class=\"row_heading level0 row0\" >Lisosia93</th>\n",
       "                        <td id=\"T_48bfea70_270f_11ec_8b34_1e0031265e4arow0_col0\" class=\"data row0 col0\" >5</td>\n",
       "                        <td id=\"T_48bfea70_270f_11ec_8b34_1e0031265e4arow0_col1\" class=\"data row0 col1\" >$3.79</td>\n",
       "                        <td id=\"T_48bfea70_270f_11ec_8b34_1e0031265e4arow0_col2\" class=\"data row0 col2\" >$18.96</td>\n",
       "            </tr>\n",
       "            <tr>\n",
       "                        <th id=\"T_48bfea70_270f_11ec_8b34_1e0031265e4alevel0_row1\" class=\"row_heading level0 row1\" >Idastidru52</th>\n",
       "                        <td id=\"T_48bfea70_270f_11ec_8b34_1e0031265e4arow1_col0\" class=\"data row1 col0\" >4</td>\n",
       "                        <td id=\"T_48bfea70_270f_11ec_8b34_1e0031265e4arow1_col1\" class=\"data row1 col1\" >$3.86</td>\n",
       "                        <td id=\"T_48bfea70_270f_11ec_8b34_1e0031265e4arow1_col2\" class=\"data row1 col2\" >$15.45</td>\n",
       "            </tr>\n",
       "            <tr>\n",
       "                        <th id=\"T_48bfea70_270f_11ec_8b34_1e0031265e4alevel0_row2\" class=\"row_heading level0 row2\" >Chamjask73</th>\n",
       "                        <td id=\"T_48bfea70_270f_11ec_8b34_1e0031265e4arow2_col0\" class=\"data row2 col0\" >3</td>\n",
       "                        <td id=\"T_48bfea70_270f_11ec_8b34_1e0031265e4arow2_col1\" class=\"data row2 col1\" >$4.61</td>\n",
       "                        <td id=\"T_48bfea70_270f_11ec_8b34_1e0031265e4arow2_col2\" class=\"data row2 col2\" >$13.83</td>\n",
       "            </tr>\n",
       "            <tr>\n",
       "                        <th id=\"T_48bfea70_270f_11ec_8b34_1e0031265e4alevel0_row3\" class=\"row_heading level0 row3\" >Iral74</th>\n",
       "                        <td id=\"T_48bfea70_270f_11ec_8b34_1e0031265e4arow3_col0\" class=\"data row3 col0\" >4</td>\n",
       "                        <td id=\"T_48bfea70_270f_11ec_8b34_1e0031265e4arow3_col1\" class=\"data row3 col1\" >$3.40</td>\n",
       "                        <td id=\"T_48bfea70_270f_11ec_8b34_1e0031265e4arow3_col2\" class=\"data row3 col2\" >$13.62</td>\n",
       "            </tr>\n",
       "            <tr>\n",
       "                        <th id=\"T_48bfea70_270f_11ec_8b34_1e0031265e4alevel0_row4\" class=\"row_heading level0 row4\" >Iskadarya95</th>\n",
       "                        <td id=\"T_48bfea70_270f_11ec_8b34_1e0031265e4arow4_col0\" class=\"data row4 col0\" >3</td>\n",
       "                        <td id=\"T_48bfea70_270f_11ec_8b34_1e0031265e4arow4_col1\" class=\"data row4 col1\" >$4.37</td>\n",
       "                        <td id=\"T_48bfea70_270f_11ec_8b34_1e0031265e4arow4_col2\" class=\"data row4 col2\" >$13.10</td>\n",
       "            </tr>\n",
       "    </tbody></table>"
      ],
      "text/plain": [
       "<pandas.io.formats.style.Styler at 0x7feea847ce48>"
      ]
     },
     "execution_count": 274,
     "metadata": {},
     "output_type": "execute_result"
    }
   ],
   "source": [
    "#Create a group by SN\n",
    "Top_spenders_df = purchase_data_df.groupby([\"SN\"])\n",
    "#Calculate total count of price by SN\n",
    "Top_counts_df = Top_spenders_df[\"Price\"].count()\n",
    "#Calculate the mean price per SN\n",
    "Top_purchase_prices_df = Top_spenders_df[\"Price\"].mean()\n",
    "#Calculate the total price per SN\n",
    "Top_purchase_values_df = Top_spenders_df[\"Price\"].sum()\n",
    "#Create a DataFrame to hold the above results\n",
    "Top_spenders_summary_df= pd.DataFrame({\"Purchase Count\":Top_counts_df,\"Average Purchase Price\":Top_purchase_prices_df,\n",
    "                                      \"Total Purchase Value\":Top_purchase_values_df})\n",
    "#Sort Total Purchase Value by descending order\n",
    "Top_spenders_summary_df = Top_spenders_summary_df.sort_values(\"Total Purchase Value\",ascending=False).head()\n",
    "#Format currency and two decimal places\n",
    "Top_spenders_summary_df.style.format({\"Average Purchase Price\":\"${:,.2f}\",\"Total Purchase Value\":\"${:,.2f}\"})"
   ]
  },
  {
   "cell_type": "markdown",
   "metadata": {},
   "source": [
    "## Most Popular Items"
   ]
  },
  {
   "cell_type": "markdown",
   "metadata": {},
   "source": [
    "* Retrieve the Item ID, Item Name, and Item Price columns\n",
    "\n",
    "\n",
    "* Group by Item ID and Item Name. Perform calculations to obtain purchase count, average item price, and total purchase value\n",
    "\n",
    "\n",
    "* Create a summary data frame to hold the results\n",
    "\n",
    "\n",
    "* Sort the purchase count column in descending order\n",
    "\n",
    "\n",
    "* Optional: give the displayed data cleaner formatting\n",
    "\n",
    "\n",
    "* Display a preview of the summary data frame\n",
    "\n"
   ]
  },
  {
   "cell_type": "code",
   "execution_count": 275,
   "metadata": {},
   "outputs": [
    {
     "data": {
      "text/html": [
       "<style  type=\"text/css\" >\n",
       "</style><table id=\"T_4a4a76a8_270f_11ec_b7fe_1e0031265e4a\" ><thead>    <tr>        <th class=\"blank\" ></th>        <th class=\"blank level0\" ></th>        <th class=\"col_heading level0 col0\" >Purchase Count</th>        <th class=\"col_heading level0 col1\" >Item Price</th>        <th class=\"col_heading level0 col2\" >Total Purchase Value</th>    </tr>    <tr>        <th class=\"index_name level0\" >Item ID</th>        <th class=\"index_name level1\" >Item Name</th>        <th class=\"blank\" ></th>        <th class=\"blank\" ></th>        <th class=\"blank\" ></th>    </tr></thead><tbody>\n",
       "                <tr>\n",
       "                        <th id=\"T_4a4a76a8_270f_11ec_b7fe_1e0031265e4alevel0_row0\" class=\"row_heading level0 row0\" >92</th>\n",
       "                        <th id=\"T_4a4a76a8_270f_11ec_b7fe_1e0031265e4alevel1_row0\" class=\"row_heading level1 row0\" >Final Critic</th>\n",
       "                        <td id=\"T_4a4a76a8_270f_11ec_b7fe_1e0031265e4arow0_col0\" class=\"data row0 col0\" >13</td>\n",
       "                        <td id=\"T_4a4a76a8_270f_11ec_b7fe_1e0031265e4arow0_col1\" class=\"data row0 col1\" >$4.61</td>\n",
       "                        <td id=\"T_4a4a76a8_270f_11ec_b7fe_1e0031265e4arow0_col2\" class=\"data row0 col2\" >$59.99</td>\n",
       "            </tr>\n",
       "            <tr>\n",
       "                        <th id=\"T_4a4a76a8_270f_11ec_b7fe_1e0031265e4alevel0_row1\" class=\"row_heading level0 row1\" >178</th>\n",
       "                        <th id=\"T_4a4a76a8_270f_11ec_b7fe_1e0031265e4alevel1_row1\" class=\"row_heading level1 row1\" >Oathbreaker, Last Hope of the Breaking Storm</th>\n",
       "                        <td id=\"T_4a4a76a8_270f_11ec_b7fe_1e0031265e4arow1_col0\" class=\"data row1 col0\" >12</td>\n",
       "                        <td id=\"T_4a4a76a8_270f_11ec_b7fe_1e0031265e4arow1_col1\" class=\"data row1 col1\" >$4.23</td>\n",
       "                        <td id=\"T_4a4a76a8_270f_11ec_b7fe_1e0031265e4arow1_col2\" class=\"data row1 col2\" >$50.76</td>\n",
       "            </tr>\n",
       "            <tr>\n",
       "                        <th id=\"T_4a4a76a8_270f_11ec_b7fe_1e0031265e4alevel0_row2\" class=\"row_heading level0 row2\" >145</th>\n",
       "                        <th id=\"T_4a4a76a8_270f_11ec_b7fe_1e0031265e4alevel1_row2\" class=\"row_heading level1 row2\" >Fiery Glass Crusader</th>\n",
       "                        <td id=\"T_4a4a76a8_270f_11ec_b7fe_1e0031265e4arow2_col0\" class=\"data row2 col0\" >9</td>\n",
       "                        <td id=\"T_4a4a76a8_270f_11ec_b7fe_1e0031265e4arow2_col1\" class=\"data row2 col1\" >$4.58</td>\n",
       "                        <td id=\"T_4a4a76a8_270f_11ec_b7fe_1e0031265e4arow2_col2\" class=\"data row2 col2\" >$41.22</td>\n",
       "            </tr>\n",
       "            <tr>\n",
       "                        <th id=\"T_4a4a76a8_270f_11ec_b7fe_1e0031265e4alevel0_row3\" class=\"row_heading level0 row3\" >132</th>\n",
       "                        <th id=\"T_4a4a76a8_270f_11ec_b7fe_1e0031265e4alevel1_row3\" class=\"row_heading level1 row3\" >Persuasion</th>\n",
       "                        <td id=\"T_4a4a76a8_270f_11ec_b7fe_1e0031265e4arow3_col0\" class=\"data row3 col0\" >9</td>\n",
       "                        <td id=\"T_4a4a76a8_270f_11ec_b7fe_1e0031265e4arow3_col1\" class=\"data row3 col1\" >$3.22</td>\n",
       "                        <td id=\"T_4a4a76a8_270f_11ec_b7fe_1e0031265e4arow3_col2\" class=\"data row3 col2\" >$28.99</td>\n",
       "            </tr>\n",
       "            <tr>\n",
       "                        <th id=\"T_4a4a76a8_270f_11ec_b7fe_1e0031265e4alevel0_row4\" class=\"row_heading level0 row4\" >108</th>\n",
       "                        <th id=\"T_4a4a76a8_270f_11ec_b7fe_1e0031265e4alevel1_row4\" class=\"row_heading level1 row4\" >Extraction, Quickblade Of Trembling Hands</th>\n",
       "                        <td id=\"T_4a4a76a8_270f_11ec_b7fe_1e0031265e4arow4_col0\" class=\"data row4 col0\" >9</td>\n",
       "                        <td id=\"T_4a4a76a8_270f_11ec_b7fe_1e0031265e4arow4_col1\" class=\"data row4 col1\" >$3.53</td>\n",
       "                        <td id=\"T_4a4a76a8_270f_11ec_b7fe_1e0031265e4arow4_col2\" class=\"data row4 col2\" >$31.77</td>\n",
       "            </tr>\n",
       "    </tbody></table>"
      ],
      "text/plain": [
       "<pandas.io.formats.style.Styler at 0x7feea8097c88>"
      ]
     },
     "execution_count": 275,
     "metadata": {},
     "output_type": "execute_result"
    }
   ],
   "source": [
    "#retrieve Item ID, Item Name and Item Price Columns\n",
    "retrieve_df= purchase_data_df[[\"Item ID\",\"Item Name\",\"Price\"]]\n",
    "#Create a group by Item ID and Item Name\n",
    "Most_popular_df = purchase_data_df.groupby([\"Item ID\",\"Item Name\"])\n",
    "#Get the total count for each item\n",
    "Most_popular_counts_df = Most_popular_df[\"Price\"].count()\n",
    "#Calculate the average price by the item\n",
    "Most_popular_average_df = Most_popular_df[\"Price\"].mean()\n",
    "#Get the total value for each item\n",
    "Most_popular_total_df = Most_popular_df[\"Price\"].sum()\n",
    "#Create a DataFrame for the above results\n",
    "Most_popular_summary_df = pd.DataFrame({\"Purchase Count\":Most_popular_counts_df,\"Item Price\":Most_popular_average_df,\n",
    "                                       \"Total Purchase Value\":Most_popular_total_df})\n",
    "#Sort the purchase count by descending order\n",
    "Most_popular_summary_df=Most_popular_summary_df.sort_values(\"Purchase Count\", ascending=False).head()\n",
    "#Format currency and two decimal places\n",
    "Most_popular_summary_df.style.format({\"Item Price\":\"${:,.2f}\",\"Total Purchase Value\":\"${:,.2f}\"})"
   ]
  },
  {
   "cell_type": "markdown",
   "metadata": {},
   "source": [
    "## Most Profitable Items"
   ]
  },
  {
   "cell_type": "markdown",
   "metadata": {},
   "source": [
    "* Sort the above table by total purchase value in descending order\n",
    "\n",
    "\n",
    "* Optional: give the displayed data cleaner formatting\n",
    "\n",
    "\n",
    "* Display a preview of the data frame\n",
    "\n"
   ]
  },
  {
   "cell_type": "code",
   "execution_count": 276,
   "metadata": {
    "scrolled": false
   },
   "outputs": [
    {
     "data": {
      "text/html": [
       "<style  type=\"text/css\" >\n",
       "</style><table id=\"T_4c932a7a_270f_11ec_becf_1e0031265e4a\" ><thead>    <tr>        <th class=\"blank\" ></th>        <th class=\"blank level0\" ></th>        <th class=\"col_heading level0 col0\" >Purchase Count</th>        <th class=\"col_heading level0 col1\" >Item Price</th>        <th class=\"col_heading level0 col2\" >Total Purchase Value</th>    </tr>    <tr>        <th class=\"index_name level0\" >Item ID</th>        <th class=\"index_name level1\" >Item Name</th>        <th class=\"blank\" ></th>        <th class=\"blank\" ></th>        <th class=\"blank\" ></th>    </tr></thead><tbody>\n",
       "                <tr>\n",
       "                        <th id=\"T_4c932a7a_270f_11ec_becf_1e0031265e4alevel0_row0\" class=\"row_heading level0 row0\" >92</th>\n",
       "                        <th id=\"T_4c932a7a_270f_11ec_becf_1e0031265e4alevel1_row0\" class=\"row_heading level1 row0\" >Final Critic</th>\n",
       "                        <td id=\"T_4c932a7a_270f_11ec_becf_1e0031265e4arow0_col0\" class=\"data row0 col0\" >13</td>\n",
       "                        <td id=\"T_4c932a7a_270f_11ec_becf_1e0031265e4arow0_col1\" class=\"data row0 col1\" >$4.61</td>\n",
       "                        <td id=\"T_4c932a7a_270f_11ec_becf_1e0031265e4arow0_col2\" class=\"data row0 col2\" >$59.99</td>\n",
       "            </tr>\n",
       "            <tr>\n",
       "                        <th id=\"T_4c932a7a_270f_11ec_becf_1e0031265e4alevel0_row1\" class=\"row_heading level0 row1\" >178</th>\n",
       "                        <th id=\"T_4c932a7a_270f_11ec_becf_1e0031265e4alevel1_row1\" class=\"row_heading level1 row1\" >Oathbreaker, Last Hope of the Breaking Storm</th>\n",
       "                        <td id=\"T_4c932a7a_270f_11ec_becf_1e0031265e4arow1_col0\" class=\"data row1 col0\" >12</td>\n",
       "                        <td id=\"T_4c932a7a_270f_11ec_becf_1e0031265e4arow1_col1\" class=\"data row1 col1\" >$4.23</td>\n",
       "                        <td id=\"T_4c932a7a_270f_11ec_becf_1e0031265e4arow1_col2\" class=\"data row1 col2\" >$50.76</td>\n",
       "            </tr>\n",
       "            <tr>\n",
       "                        <th id=\"T_4c932a7a_270f_11ec_becf_1e0031265e4alevel0_row2\" class=\"row_heading level0 row2\" >82</th>\n",
       "                        <th id=\"T_4c932a7a_270f_11ec_becf_1e0031265e4alevel1_row2\" class=\"row_heading level1 row2\" >Nirvana</th>\n",
       "                        <td id=\"T_4c932a7a_270f_11ec_becf_1e0031265e4arow2_col0\" class=\"data row2 col0\" >9</td>\n",
       "                        <td id=\"T_4c932a7a_270f_11ec_becf_1e0031265e4arow2_col1\" class=\"data row2 col1\" >$4.90</td>\n",
       "                        <td id=\"T_4c932a7a_270f_11ec_becf_1e0031265e4arow2_col2\" class=\"data row2 col2\" >$44.10</td>\n",
       "            </tr>\n",
       "            <tr>\n",
       "                        <th id=\"T_4c932a7a_270f_11ec_becf_1e0031265e4alevel0_row3\" class=\"row_heading level0 row3\" >145</th>\n",
       "                        <th id=\"T_4c932a7a_270f_11ec_becf_1e0031265e4alevel1_row3\" class=\"row_heading level1 row3\" >Fiery Glass Crusader</th>\n",
       "                        <td id=\"T_4c932a7a_270f_11ec_becf_1e0031265e4arow3_col0\" class=\"data row3 col0\" >9</td>\n",
       "                        <td id=\"T_4c932a7a_270f_11ec_becf_1e0031265e4arow3_col1\" class=\"data row3 col1\" >$4.58</td>\n",
       "                        <td id=\"T_4c932a7a_270f_11ec_becf_1e0031265e4arow3_col2\" class=\"data row3 col2\" >$41.22</td>\n",
       "            </tr>\n",
       "            <tr>\n",
       "                        <th id=\"T_4c932a7a_270f_11ec_becf_1e0031265e4alevel0_row4\" class=\"row_heading level0 row4\" >103</th>\n",
       "                        <th id=\"T_4c932a7a_270f_11ec_becf_1e0031265e4alevel1_row4\" class=\"row_heading level1 row4\" >Singed Scalpel</th>\n",
       "                        <td id=\"T_4c932a7a_270f_11ec_becf_1e0031265e4arow4_col0\" class=\"data row4 col0\" >8</td>\n",
       "                        <td id=\"T_4c932a7a_270f_11ec_becf_1e0031265e4arow4_col1\" class=\"data row4 col1\" >$4.35</td>\n",
       "                        <td id=\"T_4c932a7a_270f_11ec_becf_1e0031265e4arow4_col2\" class=\"data row4 col2\" >$34.80</td>\n",
       "            </tr>\n",
       "    </tbody></table>"
      ],
      "text/plain": [
       "<pandas.io.formats.style.Styler at 0x7feef0ecef60>"
      ]
     },
     "execution_count": 276,
     "metadata": {},
     "output_type": "execute_result"
    }
   ],
   "source": [
    "#re-display the DataFrame from above\n",
    "Most_popular_summary_df = pd.DataFrame({\"Purchase Count\":Most_popular_counts_df,\"Item Price\":Most_popular_average_df,\n",
    "                                       \"Total Purchase Value\":Most_popular_total_df})\n",
    "#Sort by the Total Purchase Value in descending order\n",
    "Most_popular_summary_df=Most_popular_summary_df.sort_values(\"Total Purchase Value\", ascending=False).head()\n",
    "#Format the currency and two decimal places\n",
    "Most_popular_summary_df.style.format({\"Item Price\":\"${:,.2f}\",\"Total Purchase Value\":\"${:,.2f}\"})"
   ]
  }
 ],
 "metadata": {
  "anaconda-cloud": {},
  "kernel_info": {
   "name": "python3"
  },
  "kernelspec": {
   "display_name": "Python 3",
   "language": "python",
   "name": "python3"
  },
  "language_info": {
   "codemirror_mode": {
    "name": "ipython",
    "version": 3
   },
   "file_extension": ".py",
   "mimetype": "text/x-python",
   "name": "python",
   "nbconvert_exporter": "python",
   "pygments_lexer": "ipython3",
   "version": "3.6.13"
  },
  "latex_envs": {
   "LaTeX_envs_menu_present": true,
   "autoclose": false,
   "autocomplete": true,
   "bibliofile": "biblio.bib",
   "cite_by": "apalike",
   "current_citInitial": 1,
   "eqLabelWithNumbers": true,
   "eqNumInitial": 1,
   "hotkeys": {
    "equation": "Ctrl-E",
    "itemize": "Ctrl-I"
   },
   "labels_anchors": false,
   "latex_user_defs": false,
   "report_style_numbering": false,
   "user_envs_cfg": false
  },
  "nteract": {
   "version": "0.2.0"
  }
 },
 "nbformat": 4,
 "nbformat_minor": 2
}
